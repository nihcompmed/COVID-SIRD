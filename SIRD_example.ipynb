{
 "cells": [
  {
   "cell_type": "code",
   "execution_count": 1,
   "metadata": {},
   "outputs": [],
   "source": [
    "\"\"\"\n",
    "author: cresswellclayec\n",
    "\n",
    "example SIRD simulation for a given set of parameters\n",
    "You can re-rerun an individual simulation of annoy of the given models form the paper\n",
    "\n",
    "Requisite modules: \n",
    "    - newSIRD.py\n",
    "    - summary.py\n",
    "\"\"\"\n",
    "\n",
    "# Import necessary tools\n",
    "from newSIRD import SIRD_pool,  produce_amount_keys\n",
    "from newSIRD_analysis import SIRD_summary\n",
    "\n",
    "\n",
    "from itertools import product\n",
    "from multiprocessing import Pool\n",
    "import pandas as pd\n",
    "import numpy as np\n",
    "import bz2\n",
    "import pickle as pkl\n",
    "import sys, os\n",
    "import time\n",
    "from matplotlib.backends.backend_pdf import PdfPages\n",
    "import matplotlib.pyplot as plt"
   ]
  },
  {
   "cell_type": "code",
   "execution_count": 2,
   "metadata": {},
   "outputs": [
    {
     "name": "stdout",
     "output_type": "stream",
     "text": [
      "Model 10 of 112896 :\n",
      " {'inf_rate': 0.0625, 'rec_rate': 0.05263157894736842, 'death_rate': 0.0006, 'scale_pop_dens': 3.5, 'scale_med_age': 0.65, 'age_increase': 5.4, 'N': 1000.0, 'N_init': 1, 'sus_age': 0.0, 'max_age': 100.0, 'n_sims': 40, 'tmax': 100, 'tplus': 15, 'time_to_fit': 15}\n"
     ]
    }
   ],
   "source": [
    "#--- Dictionary of paper parameters ---#\n",
    "# function for slicing/passing model parameters to simulation\n",
    "def my_product(inp):\n",
    "    return [dict(zip(inp.keys(), values)) for values in product(*inp.values())]\n",
    "\n",
    "# Define Parameter set:\n",
    "param_lists = {'inf_rate':[1/8.,1/10.,1/12.,1/14.,1/16.,1/18.,1/20.],\\\n",
    "               'rec_rate':[1/10.,1/13.,1/16.,1/19.,1/22.,1/25.,1/28.,1/31.],\\\n",
    "               'death_rate':[1/500.,1/750.,1/1000.,1/1250.,1/1500.,1/1750.,1/2000.],\\\n",
    "               'scale_pop_dens':[2.,2.5,3.,3.5,4.,4.5,5.,5.5],\\\n",
    "               'scale_med_age':[0.5,0.65,0.8,0.95,1.1,1.25],\\\n",
    "               'age_increase':[5.4,5.5,5.6],\\\n",
    "               'N':[1e5,9e4],\\\n",
    "               'N_init':[1],\\\n",
    "               'sus_age':[0.],\\\n",
    "               'max_age':[100.],\\\n",
    "               'n_sims':[40],\\\n",
    "               'tmax':[100],\\\n",
    "               'tplus':[15],\\\n",
    "               'time_to_fit':[15]}\n",
    "\n",
    "# list of possible models\n",
    "model_list = my_product(param_lists)\n",
    "\n",
    "# parameter model index\n",
    "index = 10\n",
    "random_seed = index\n",
    "#--------------------------------------#\n",
    "\n",
    "\n",
    "#--- Select model from paper model list ---#\n",
    "#model = model_list[index]\n",
    "# or: define your own model\n",
    "model_death =  {'inf_rate': 0.1, 'rec_rate': 0.0774, 'death_rate': 0.002, 'scale_pop_dens': 2.0, \\\n",
    " 'scale_med_age': 0.65, 'age_increase': 5.5, 'N': 100000.0, 'N_init': 1, 'sus_age': 0.0,\\\n",
    " 'max_age': 100.0, 'n_sims': 40, 'tmax': 100, 'tplus': 15, 'time_to_fit': 15}\n",
    "model_life =  {'inf_rate': 1/16., 'rec_rate': 1/19., 'death_rate': 0.0006, 'scale_pop_dens': 3.5, \\\n",
    " 'scale_med_age': 0.65, 'age_increase': 5.4, 'N': 100000.0, 'N_init': 1, 'sus_age': 0.0,\\\n",
    " 'max_age': 100.0, 'n_sims': 40, 'tmax': 100, 'tplus': 15, 'time_to_fit': 15}\n",
    "\n",
    "model = model_life\n",
    "\n",
    "print(\"Model %d of %d :\\n\"%(index,len(model_list)),model)\n",
    "#------------------------------------------#\n",
    "\n"
   ]
  },
  {
   "cell_type": "code",
   "execution_count": 3,
   "metadata": {},
   "outputs": [
    {
     "name": "stdout",
     "output_type": "stream",
     "text": [
      "Data Exists:  True\n"
     ]
    }
   ],
   "source": [
    "# Run simulation\n",
    "\n",
    "filename =  \"model_\" + str(index) \n",
    "# Input filename, RV seed and model parameters \n",
    "inputs = filename, random_seed, model\n",
    "\n",
    "run_simulation = True\n",
    "data_exists = os.path.exists('./pickles/sird_%s.bz2'%filename)\n",
    "if run_simulation and not data_exists:\n",
    "    #make directory to load simulation files in \n",
    "    if not os.path.exists('./pickles'):\n",
    "        os.mkdir('./pickles')\n",
    "    \n",
    "    # Simulation Run\n",
    "    start_time = time.time()\n",
    "    SIRD_pool(inputs)\n",
    "    end_time = time.time()\n",
    "    sim_time = end_time - start_time\n",
    "    print('Simulation took %f seconds', sim_time)\n",
    "else:\n",
    "    print(\"Data Exists: \",data_exists)\n",
    "    if not data_exists:\n",
    "        print(\"set run_simulation to True\")"
   ]
  },
  {
   "cell_type": "code",
   "execution_count": 13,
   "metadata": {},
   "outputs": [],
   "source": [
    "# Generate Summary file - Uses SIRD_summary() from summary.py\n",
    "sird_sim_file = './pickles/sird_%s.bz2'%filename\n",
    "model = SIRD_summary(sird_sim_file)\n",
    "# print('Resulting Model:\\n\\n',model)\n"
   ]
  },
  {
   "cell_type": "code",
   "execution_count": 16,
   "metadata": {},
   "outputs": [
    {
     "data": {
      "text/plain": [
       "Text(0, 0.5, 'Cumulative number of deaths')"
      ]
     },
     "execution_count": 16,
     "metadata": {},
     "output_type": "execute_result"
    },
    {
     "data": {
      "image/png": "[encoded data removed]",
      "text/plain": [
       "<Figure size 432x288 with 1 Axes>"
      ]
     },
     "metadata": {
      "needs_background": "light"
     },
     "output_type": "display_data"
    }
   ],
   "source": [
    "loc_String = '2'\n",
    "fstr = PdfPages('predict_mult'+loc_String+'.pdf')\n",
    "fig = plt.figure()\n",
    "ax = plt.subplot(111)\n",
    "ave_array = []\n",
    "record = model\n",
    "time_to_fit = record['time_to_fit']\n",
    "tc,shifted_times,idiotA,idiotB,idiotC,idiotD = record['time_courses'],record['shifted_times'],record['idiot'+loc_String+'_third_half'],record['idiot'+loc_String+'_third_twothird'],record['idiot'+loc_String+'_quarter_half'],record['idiot'+loc_String+'_quarter_twothird']\n",
    "for i,lst in enumerate(tc['Inf']):\n",
    "    shift_le_14 = shifted_times[i]<min(22,time_to_fit + int(loc_String)*record['tplus'])\n",
    "    shift_ge_0 = shifted_times[i]>=14\n",
    "    shift_le_14 = np.logical_and(shift_le_14,shift_ge_0)\n",
    "    ave_array.append(tc['Dead'][i][shift_le_14])\n",
    "    # if (j==0) and (i==0):\n",
    "    #     ax.semilogy(shifted_times[i,shift_le_14],(lst[shift_le_14]),'r-',alpha=0.5)\n",
    "    #     ax.semilogy(shifted_times[i,shift_le_14],(tc['Dead'][i][shift_le_14]),'k-',alpha=0.2)\n",
    "    # ax.semilogy(shifted_times[i,shift_le_14],(lst[shift_le_14]),'r-',alpha=0.5)\n",
    "    # ax.semilogy(shifted_times[i,shift_le_14],(tc['Dead'][i][shift_le_14]),'k-',alpha=0.2)\n",
    "ave_array = np.array(ave_array).mean(axis=0)\n",
    "ax.semilogy(np.arange(14,22),ave_array,'k-',label='No distancing')\n",
    "plt.xlabel('Days relative to first death')\n",
    "plt.ylabel('Cumulative number of deaths')"
   ]
  },
  {
   "cell_type": "code",
   "execution_count": null,
   "metadata": {},
   "outputs": [],
   "source": []
  }
 ],
 "metadata": {
  "kernelspec": {
   "display_name": "Python 3",
   "language": "python",
   "name": "python3"
  },
  "language_info": {
   "codemirror_mode": {
    "name": "ipython",
    "version": 3
   },
   "file_extension": ".py",
   "mimetype": "text/x-python",
   "name": "python",
   "nbconvert_exporter": "python",
   "pygments_lexer": "ipython3",
   "version": "3.8.4"
  }
 },
 "nbformat": 4,
 "nbformat_minor": 4
}
